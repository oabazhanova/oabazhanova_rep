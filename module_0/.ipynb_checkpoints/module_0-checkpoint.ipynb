{
 "cells": [
  {
   "cell_type": "code",
   "execution_count": 4,
   "metadata": {},
   "outputs": [
    {
     "name": "stdout",
     "output_type": "stream",
     "text": [
      "Ваш алгоритм угадывает число в среднем за 5 попыток\n"
     ]
    }
   ],
   "source": [
    "import numpy as np\n",
    "\n",
    "def game_core_my(number):\n",
    "    '''Устанавливаем число в середине диапазона поиска, смещаем диапазон в зависимости от того, больше наше число или меньше нужного.\n",
    "       Функция принимает загаданное число и возвращает число попыток'''\n",
    "    count = 1\n",
    "    minimum = 1                              #задаем начальный минимум диапазона \n",
    "    maximum = 100                            #задаем начальный максимум диапазона\n",
    "    predict = (minimum + maximum)//2         #начальное число в середине диапазона\n",
    "    while number != predict:\n",
    "        count+=1\n",
    "        if number > predict:                 #если искомое число больше нашего\n",
    "            minimum = predict                #меняем минимум диапазона поиска на наше число \n",
    "        elif number < predict:               #если искомое число меньше нашего\n",
    "            maximum = predict                #меняем максимум диапазона поиска на наше число\n",
    "        predict = (minimum + maximum)//2     #новое число устанавливаем в середину нового диапазона\n",
    "    return(count)                            #выход из цикла, если угадали\n",
    "                \n",
    "def score_game(game_core):\n",
    "    '''Запускаем игру 1000 раз, чтобы узнать, как быстро игра угадывает число'''\n",
    "    count_ls = []\n",
    "    np.random.seed(1)\n",
    "    random_array = np.random.randint(1,101, size=(10))\n",
    "    for number in random_array:\n",
    "        count_ls.append(game_core(number))\n",
    "    score = int(np.mean(count_ls))\n",
    "    return(print(f\"Ваш алгоритм угадывает число в среднем за {score} попыток\"))\n",
    "\n",
    "score_game(game_core_my)"
   ]
  },
  {
   "cell_type": "code",
   "execution_count": null,
   "metadata": {},
   "outputs": [],
   "source": []
  },
  {
   "cell_type": "code",
   "execution_count": null,
   "metadata": {},
   "outputs": [],
   "source": []
  },
  {
   "cell_type": "code",
   "execution_count": null,
   "metadata": {},
   "outputs": [],
   "source": []
  }
 ],
 "metadata": {
  "kernelspec": {
   "display_name": "Python 3",
   "language": "python",
   "name": "python3"
  },
  "language_info": {
   "codemirror_mode": {
    "name": "ipython",
    "version": 3
   },
   "file_extension": ".py",
   "mimetype": "text/x-python",
   "name": "python",
   "nbconvert_exporter": "python",
   "pygments_lexer": "ipython3",
   "version": "3.7.6"
  }
 },
 "nbformat": 4,
 "nbformat_minor": 4
}
